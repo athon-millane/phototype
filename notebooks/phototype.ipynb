{
 "cells": [
  {
   "cell_type": "code",
   "execution_count": 1,
   "metadata": {},
   "outputs": [
    {
     "data": {
      "application/vnd.jupyter.widget-view+json": {
       "model_id": "0602959622f6499dbd00561947c25486",
       "version_major": 2,
       "version_minor": 0
      },
      "text/plain": [
       "QuizWidget(children=(VBox(children=(HTML(value='<span style=\"margin-left: 10px; font-size: 32px, font-style: i…"
      ]
     },
     "metadata": {},
     "output_type": "display_data"
    }
   ],
   "source": [
    "import os; os.chdir('..')\n",
    "from src.widgets import QuizWidget\n",
    "\n",
    "widget = QuizWidget(100, image_size=800)\n",
    "widget"
   ]
  },
  {
   "cell_type": "code",
   "execution_count": null,
   "metadata": {},
   "outputs": [],
   "source": []
  }
 ],
 "metadata": {
  "kernelspec": {
   "display_name": "Python (engg3800g04)",
   "language": "python",
   "name": "engg3800g04"
  },
  "language_info": {
   "codemirror_mode": {
    "name": "ipython",
    "version": 3
   },
   "file_extension": ".py",
   "mimetype": "text/x-python",
   "name": "python",
   "nbconvert_exporter": "python",
   "pygments_lexer": "ipython3",
   "version": "3.7.3"
  }
 },
 "nbformat": 4,
 "nbformat_minor": 4
}
